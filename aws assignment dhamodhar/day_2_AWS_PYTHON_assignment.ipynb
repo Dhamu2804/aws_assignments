{
 "cells": [
  {
   "cell_type": "markdown",
   "id": "43ff4297",
   "metadata": {},
   "source": [
    "# Refer capitalize function in shared program files, replicate .upper() and .lower() functions\n"
   ]
  },
  {
   "cell_type": "code",
   "execution_count": 1,
   "id": "f02012f4",
   "metadata": {},
   "outputs": [
    {
     "name": "stdout",
     "output_type": "stream",
     "text": [
      "Dhamodhar\n"
     ]
    }
   ],
   "source": [
    "string=\"dhamodhar\"\n",
    "capitalize_string=string.capitalize()\n",
    "print(capitalize_string)"
   ]
  },
  {
   "cell_type": "code",
   "execution_count": 2,
   "id": "66993e0c",
   "metadata": {},
   "outputs": [
    {
     "name": "stdout",
     "output_type": "stream",
     "text": [
      "DHAMODHAR\n"
     ]
    }
   ],
   "source": [
    "upper_string=string.upper()\n",
    "print(upper_string)"
   ]
  },
  {
   "cell_type": "code",
   "execution_count": 3,
   "id": "02d7b4db",
   "metadata": {},
   "outputs": [
    {
     "name": "stdout",
     "output_type": "stream",
     "text": [
      "dhamodhar\n"
     ]
    }
   ],
   "source": [
    "lower_string=string.lower()\n",
    "print(lower_string)"
   ]
  },
  {
   "cell_type": "markdown",
   "id": "b99e41a4",
   "metadata": {},
   "source": [
    "# Create a odd sequence from given sequence [1,2,34,65,1,2,65,66,44,33,22,87,123412,09,78,76]\n"
   ]
  },
  {
   "cell_type": "code",
   "execution_count": 4,
   "id": "30ab87c7",
   "metadata": {},
   "outputs": [
    {
     "name": "stdout",
     "output_type": "stream",
     "text": [
      "[1, 65, 1, 65, 33, 87, 9]\n"
     ]
    }
   ],
   "source": [
    "lis=[1,2,34,65,1,2,65,66,44,33,22,87,123412,9,78,76]\n",
    "odd_sequence=[]\n",
    "for i in lis:\n",
    "    if i%2!=0:\n",
    "        odd_sequence.append(i)\n",
    "print(odd_sequence)"
   ]
  },
  {
   "cell_type": "markdown",
   "id": "8af5f7d9",
   "metadata": {},
   "source": [
    "# {‘apple’: 10, ‘mango’: 20, ‘pineapple’: 25, ‘orange’: 30, ‘strawberry’: 50, ‘jackfruit’: 10}Generate a comprehension fruits which has more than 20 \n"
   ]
  },
  {
   "cell_type": "code",
   "execution_count": 5,
   "id": "fdba19ea",
   "metadata": {},
   "outputs": [
    {
     "name": "stdout",
     "output_type": "stream",
     "text": [
      "{'pineapple': 25, 'orange': 30, 'strawberry': 50}\n"
     ]
    }
   ],
   "source": [
    "fruits_dic={'apple': 10, 'mango': 20, 'pineapple': 25, 'orange': 30, 'strawberry': 50, 'jackfruit': 10}\n",
    "fruits_more_than_20={key:value for key,value in fruits_dic.items() if value>20}\n",
    "print(fruits_more_than_20)"
   ]
  }
 ],
 "metadata": {
  "kernelspec": {
   "display_name": "Python 3 (ipykernel)",
   "language": "python",
   "name": "python3"
  },
  "language_info": {
   "codemirror_mode": {
    "name": "ipython",
    "version": 3
   },
   "file_extension": ".py",
   "mimetype": "text/x-python",
   "name": "python",
   "nbconvert_exporter": "python",
   "pygments_lexer": "ipython3",
   "version": "3.11.5"
  }
 },
 "nbformat": 4,
 "nbformat_minor": 5
}

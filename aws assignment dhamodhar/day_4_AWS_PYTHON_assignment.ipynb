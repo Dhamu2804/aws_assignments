{
 "cells": [
  {
   "cell_type": "markdown",
   "id": "97220714",
   "metadata": {},
   "source": [
    "# Create various data types and experiment its attribute\n"
   ]
  },
  {
   "cell_type": "markdown",
   "id": "f099c077",
   "metadata": {},
   "source": [
    "1) Name = “some name”\n",
    "Convert above string into, upper, lower and capitalize\n",
    "Replace ‘e’ with ‘E’ using attribute\n"
   ]
  },
  {
   "cell_type": "code",
   "execution_count": 1,
   "id": "d9904153",
   "metadata": {},
   "outputs": [
    {
     "name": "stdout",
     "output_type": "stream",
     "text": [
      "Upper case: DINESH\n",
      "Lower case: dinesh\n",
      "Capitalized: Dinesh\n",
      "Replaced: DinEsh\n"
     ]
    }
   ],
   "source": [
    "# Define a string\n",
    "Name = \"Dinesh\"\n",
    "# Convert to upper case\n",
    "upper_case = Name.upper()\n",
    "print(\"Upper case:\", upper_case)\n",
    "\n",
    "# Convert to lower case\n",
    "lower_case = Name.lower()\n",
    "print(\"Lower case:\", lower_case)\n",
    "\n",
    "# Capitalize the string\n",
    "capitalized = Name.capitalize()\n",
    "print(\"Capitalized:\", capitalized)\n",
    "\n",
    "# Replace 'e' with 'E'\n",
    "replaced = Name.replace('e', 'E')\n",
    "print(\"Replaced:\", replaced)"
   ]
  },
  {
   "cell_type": "markdown",
   "id": "cd76645e",
   "metadata": {},
   "source": [
    "2) L = [1,2,3]\n",
    "Extend above list by using [5,6,7] and remove 5th value\n"
   ]
  },
  {
   "cell_type": "code",
   "execution_count": 2,
   "id": "f269df28",
   "metadata": {},
   "outputs": [
    {
     "name": "stdout",
     "output_type": "stream",
     "text": [
      "[1, 2, 3, 5, 6, 7]\n"
     ]
    }
   ],
   "source": [
    "L=[1,2,3]\n",
    "L.extend([5,6,7])\n",
    "print(L)"
   ]
  },
  {
   "cell_type": "code",
   "execution_count": 3,
   "id": "95bda11f",
   "metadata": {},
   "outputs": [
    {
     "name": "stdout",
     "output_type": "stream",
     "text": [
      "Extend list: [1, 2, 3, 5, 7]\n"
     ]
    }
   ],
   "source": [
    "del L[4]\n",
    "print(\"Extend list:\",L)"
   ]
  },
  {
   "cell_type": "markdown",
   "id": "24ca6e15",
   "metadata": {},
   "source": [
    "3) d = {‘mango’: 10, ‘banana’: 0, ‘apple’: 15, ‘orange’: 0, ‘pineapple’: 20}\n",
    "Remove out of stock fruits from above dictionary\n",
    "Update mango quantity into 15 & decrease pineapple by 5\n",
    "Try pop, remove in all 3 mutable data types (list, dict, set)\n"
   ]
  },
  {
   "cell_type": "code",
   "execution_count": 4,
   "id": "be83408b",
   "metadata": {},
   "outputs": [
    {
     "name": "stdout",
     "output_type": "stream",
     "text": [
      "out_of_stock:  ['banana', 'orange']\n",
      "{'mango': 10, 'apple': 15, 'pineapple': 20}\n"
     ]
    }
   ],
   "source": [
    "d={'mango': 10, 'banana': 0, 'apple': 15, 'orange': 0, 'pineapple': 20}\n",
    "out_of_stock=[key for key,value in d.items() if value==0]\n",
    "print(\"out_of_stock: \",out_of_stock)\n",
    "for fruit in out_of_stock:\n",
    "    del d[fruit]\n",
    "print(d)"
   ]
  },
  {
   "cell_type": "code",
   "execution_count": 5,
   "id": "aed42009",
   "metadata": {},
   "outputs": [
    {
     "name": "stdout",
     "output_type": "stream",
     "text": [
      "Upadet dictionary:  {'mango': 15, 'apple': 15, 'pineapple': 15}\n"
     ]
    }
   ],
   "source": [
    "d['mango']=15\n",
    "d['pineapple']-=5\n",
    "print(\"Upadet dictionary: \",d)"
   ]
  },
  {
   "cell_type": "markdown",
   "id": "681ccdcc",
   "metadata": {},
   "source": [
    "- \tPractise below slicing problems\n",
    "\n",
    "An assignment statement containing the expression a[m:n] on the left side and a list on the right\n",
    "side can modify list a. Complete the following table by supplying the m and n values in the slice\n",
    "assignment statement needed to produce the indicated list from the given original list.\n",
    "Slice indices\n"
   ]
  },
  {
   "cell_type": "code",
   "execution_count": 6,
   "id": "3dc58a51",
   "metadata": {},
   "outputs": [
    {
     "name": "stdout",
     "output_type": "stream",
     "text": [
      "[2, 4, 6, 8, 10, 12, 14, 16, 18]\n"
     ]
    }
   ],
   "source": [
    "# Given list\n",
    "a = [2, 4, 6, 8, 10]\n",
    "\n",
    "# Problem 1\n",
    "a += [12, 14, 16, 18]\n",
    "print(a)"
   ]
  },
  {
   "cell_type": "code",
   "execution_count": 7,
   "id": "6a4e2c4a",
   "metadata": {},
   "outputs": [
    {
     "name": "stdout",
     "output_type": "stream",
     "text": [
      "[-18, -16, -14, -12, -10, -8, -6, -4, -2, 0, 2, 4, 6, 8, 10, 12, 14, 16, 18]\n"
     ]
    }
   ],
   "source": [
    "# Problem 2\n",
    "a[:] = [-i for i in a][::-1] + [0] +[j for j in a]\n",
    "print(a)"
   ]
  },
  {
   "cell_type": "code",
   "execution_count": 8,
   "id": "48cd11b1",
   "metadata": {},
   "outputs": [
    {
     "name": "stdout",
     "output_type": "stream",
     "text": [
      "[2, 3, 4, 5, 6, 7, 8, 10]\n"
     ]
    }
   ],
   "source": [
    "# Problem 3\n",
    "a[:] = [2, 3, 4, 5, 6, 7, 8, 10]\n",
    "print(a)"
   ]
  },
  {
   "cell_type": "code",
   "execution_count": 9,
   "id": "879031be",
   "metadata": {},
   "outputs": [
    {
     "name": "stdout",
     "output_type": "stream",
     "text": [
      "[2, 4, 6, 'a', 'b', 'c', 8, 10]\n"
     ]
    }
   ],
   "source": [
    "# Problem 4\n",
    "a=[2,4,6,8,10]\n",
    "a[3:3] = ['a', 'b', 'c']\n",
    "print(a)"
   ]
  },
  {
   "cell_type": "code",
   "execution_count": 10,
   "id": "c95128b1",
   "metadata": {},
   "outputs": [
    {
     "name": "stdout",
     "output_type": "stream",
     "text": [
      "[2, 4, 6, 'a', 'b', 'c', 8, 10]\n"
     ]
    }
   ],
   "source": [
    "# Problem 5\n",
    "a = a\n",
    "print(a)"
   ]
  },
  {
   "cell_type": "code",
   "execution_count": 11,
   "id": "e6b6b97a",
   "metadata": {},
   "outputs": [
    {
     "name": "stdout",
     "output_type": "stream",
     "text": [
      "[]\n"
     ]
    }
   ],
   "source": [
    "# Problem 6\n",
    "a[0:0] = []\n",
    "print(a[0:0])"
   ]
  },
  {
   "cell_type": "code",
   "execution_count": 12,
   "id": "968d5ac3",
   "metadata": {},
   "outputs": [
    {
     "name": "stdout",
     "output_type": "stream",
     "text": [
      "[10, 8, 6, 4, 2]\n"
     ]
    }
   ],
   "source": [
    "#problem7\n",
    "a=[2, 4, 6, 8, 10]                           \n",
    "print(a[::-1])"
   ]
  },
  {
   "cell_type": "code",
   "execution_count": 13,
   "id": "68706a5a",
   "metadata": {},
   "outputs": [
    {
     "name": "stdout",
     "output_type": "stream",
     "text": [
      "[2, 4, 6]\n"
     ]
    }
   ],
   "source": [
    "# Problem 8\n",
    "a=[2, 4, 6, 8, 10]\n",
    "print(a[0:3])"
   ]
  },
  {
   "cell_type": "code",
   "execution_count": 14,
   "id": "e425ea28",
   "metadata": {},
   "outputs": [
    {
     "name": "stdout",
     "output_type": "stream",
     "text": [
      "[2, 10]\n"
     ]
    }
   ],
   "source": [
    "# Problem 9\n",
    "a=[2, 4, 6, 8, 10]\n",
    "a[1:4]=[]\n",
    "print(a)"
   ]
  },
  {
   "cell_type": "code",
   "execution_count": 15,
   "id": "74c7907e",
   "metadata": {},
   "outputs": [
    {
     "name": "stdout",
     "output_type": "stream",
     "text": [
      "[4, 6, 8]\n"
     ]
    }
   ],
   "source": [
    "# Problem 10\n",
    "a=[2, 4, 6, 8, 10]\n",
    "print(a[1:4])"
   ]
  },
  {
   "cell_type": "code",
   "execution_count": 16,
   "id": "808773ca",
   "metadata": {},
   "outputs": [
    {
     "name": "stdout",
     "output_type": "stream",
     "text": [
      "[2, 4, 6, 8, 10, 12, 14, 16, 18, 20]\n"
     ]
    }
   ],
   "source": [
    "# Problem 11\n",
    "a=[2, 4, 6, 8, 10]\n",
    "a = a + [12, 14, 16, 18, 20]\n",
    "print(a)"
   ]
  },
  {
   "cell_type": "code",
   "execution_count": 17,
   "id": "2fc318a3",
   "metadata": {},
   "outputs": [
    {
     "name": "stdout",
     "output_type": "stream",
     "text": [
      "[6, 8, 10]\n"
     ]
    }
   ],
   "source": [
    "# Problem 12\n",
    "a=[2,4,6,8,10]\n",
    "print(a[2:])"
   ]
  }
 ],
 "metadata": {
  "kernelspec": {
   "display_name": "Python 3 (ipykernel)",
   "language": "python",
   "name": "python3"
  },
  "language_info": {
   "codemirror_mode": {
    "name": "ipython",
    "version": 3
   },
   "file_extension": ".py",
   "mimetype": "text/x-python",
   "name": "python",
   "nbconvert_exporter": "python",
   "pygments_lexer": "ipython3",
   "version": "3.11.5"
  }
 },
 "nbformat": 4,
 "nbformat_minor": 5
}

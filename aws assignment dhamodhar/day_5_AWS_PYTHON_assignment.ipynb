{
 "cells": [
  {
   "cell_type": "markdown",
   "id": "b02e40a0",
   "metadata": {},
   "source": [
    "# Write Examples code for concatenation\n"
   ]
  },
  {
   "cell_type": "code",
   "execution_count": 1,
   "id": "66341ca7",
   "metadata": {},
   "outputs": [
    {
     "name": "stdout",
     "output_type": "stream",
     "text": [
      "Hello World\n"
     ]
    }
   ],
   "source": [
    "# Concatenating two strings\n",
    "str1 = \"Hello\"\n",
    "str2 = \"World\"\n",
    "result = str1 + \" \" + str2\n",
    "print(result)"
   ]
  },
  {
   "cell_type": "code",
   "execution_count": 2,
   "id": "acb92331",
   "metadata": {},
   "outputs": [
    {
     "name": "stdout",
     "output_type": "stream",
     "text": [
      "[1, 2, 3, 4, 5, 6]\n"
     ]
    }
   ],
   "source": [
    "# Concatenating two lists\n",
    "list1 = [1, 2, 3]\n",
    "list2 = [4, 5, 6]\n",
    "result = list1 + list2\n",
    "print(result)\n"
   ]
  },
  {
   "cell_type": "markdown",
   "id": "c94db94f",
   "metadata": {},
   "source": [
    "# Write one Examples for each formatting techniques"
   ]
  },
  {
   "cell_type": "code",
   "execution_count": 3,
   "id": "8da0d7a8",
   "metadata": {},
   "outputs": [
    {
     "name": "stdout",
     "output_type": "stream",
     "text": [
      "Formatted string: Name: Dhanush, Age: 19\n"
     ]
    }
   ],
   "source": [
    "Name=\"Dhanush\"\n",
    "age=19\n",
    "formatted_string = \"Name: %s, Age: %d\" % (Name, age)\n",
    "print(\"Formatted string:\", formatted_string)"
   ]
  },
  {
   "cell_type": "code",
   "execution_count": 4,
   "id": "2156b895",
   "metadata": {},
   "outputs": [
    {
     "name": "stdout",
     "output_type": "stream",
     "text": [
      "My name is John and I am 25 years old.\n"
     ]
    }
   ],
   "source": [
    "name = \"John\"\n",
    "age = 25\n",
    "formatted_string = \"My name is {} and I am {} years old.\".format(name, age)\n",
    "print(formatted_string)"
   ]
  },
  {
   "cell_type": "code",
   "execution_count": 5,
   "id": "fa5dfb61",
   "metadata": {},
   "outputs": [
    {
     "name": "stdout",
     "output_type": "stream",
     "text": [
      "My name is ravi and I am 23 years old.\n"
     ]
    }
   ],
   "source": [
    "name = \"ravi\"\n",
    "age = 23\n",
    "formatted_string = f\"My name is {name} and I am {age} years old.\"\n",
    "print(formatted_string)"
   ]
  },
  {
   "cell_type": "markdown",
   "id": "f9b7fc94",
   "metadata": {},
   "source": [
    "# Go Through Reference site and apply various options into formatting techniques\n"
   ]
  },
  {
   "cell_type": "code",
   "execution_count": 6,
   "id": "c9934087",
   "metadata": {},
   "outputs": [
    {
     "name": "stdout",
     "output_type": "stream",
     "text": [
      "Formatted string: Name: ravi, Age: 23\n"
     ]
    }
   ],
   "source": [
    "from string import Template\n",
    "template = Template(\"Name: $name, Age: $age\")\n",
    "formatted_string = template.substitute(name=name, age=age)\n",
    "print(\"Formatted string:\", formatted_string)"
   ]
  },
  {
   "cell_type": "code",
   "execution_count": 7,
   "id": "20f8d851",
   "metadata": {},
   "outputs": [
    {
     "name": "stdout",
     "output_type": "stream",
     "text": [
      "Formatted string: Name: ravi, Age: 23\n"
     ]
    }
   ],
   "source": [
    "formatted_string = \"Name: {}, Age: {}\".format(name, age)\n",
    "print(\"Formatted string:\", formatted_string)"
   ]
  },
  {
   "cell_type": "markdown",
   "id": "993687ff",
   "metadata": {},
   "source": [
    "# Write example for each arithmetic operators\n"
   ]
  },
  {
   "cell_type": "code",
   "execution_count": 8,
   "id": "62e6b903",
   "metadata": {},
   "outputs": [],
   "source": [
    "num1=14\n",
    "num2=7"
   ]
  },
  {
   "cell_type": "code",
   "execution_count": 9,
   "id": "f4dbf01b",
   "metadata": {},
   "outputs": [
    {
     "name": "stdout",
     "output_type": "stream",
     "text": [
      "Addition: 21\n"
     ]
    }
   ],
   "source": [
    "#Addition\n",
    "summ=num1+num2\n",
    "print(\"Addition:\",summ)"
   ]
  },
  {
   "cell_type": "code",
   "execution_count": 10,
   "id": "d7dc4375",
   "metadata": {},
   "outputs": [
    {
     "name": "stdout",
     "output_type": "stream",
     "text": [
      "subtraction: -7\n"
     ]
    }
   ],
   "source": [
    "#Subtraction\n",
    "sub=num2-num1\n",
    "print(\"subtraction:\",sub)"
   ]
  },
  {
   "cell_type": "code",
   "execution_count": 11,
   "id": "1a1c898e",
   "metadata": {},
   "outputs": [
    {
     "name": "stdout",
     "output_type": "stream",
     "text": [
      "Multiplication: 98\n"
     ]
    }
   ],
   "source": [
    "#Multiplication\n",
    "mul=num1*num2\n",
    "print(\"Multiplication:\",mul)"
   ]
  },
  {
   "cell_type": "code",
   "execution_count": 12,
   "id": "e1db0e48",
   "metadata": {},
   "outputs": [
    {
     "name": "stdout",
     "output_type": "stream",
     "text": [
      "Division: 0\n"
     ]
    }
   ],
   "source": [
    "#Division\n",
    "div=num2//num1\n",
    "print(\"Division:\",div)"
   ]
  },
  {
   "cell_type": "code",
   "execution_count": 20,
   "id": "b61d6ffc",
   "metadata": {},
   "outputs": [
    {
     "name": "stdout",
     "output_type": "stream",
     "text": [
      "Modulus: 7\n"
     ]
    }
   ],
   "source": [
    "#Modulus\n",
    "mod=num2%num1\n",
    "print(\"Modulus:\",mod)"
   ]
  },
  {
   "cell_type": "code",
   "execution_count": 14,
   "id": "d349c808",
   "metadata": {},
   "outputs": [
    {
     "name": "stdout",
     "output_type": "stream",
     "text": [
      "Exponentiation: 105413504\n"
     ]
    }
   ],
   "source": [
    "#Exponentiation\n",
    "exp=num1**num2\n",
    "print(\"Exponentiation:\",exp)"
   ]
  },
  {
   "cell_type": "code",
   "execution_count": 15,
   "id": "14b77320",
   "metadata": {},
   "outputs": [
    {
     "name": "stdout",
     "output_type": "stream",
     "text": [
      "floor Division: 2\n"
     ]
    }
   ],
   "source": [
    "#floor Division\n",
    "floor_division=num1//num2\n",
    "print(\"floor Division:\",floor_division)"
   ]
  },
  {
   "cell_type": "markdown",
   "id": "91078e16",
   "metadata": {},
   "source": [
    "# Write Example for assignment operators (except: = & +=)"
   ]
  },
  {
   "cell_type": "code",
   "execution_count": 16,
   "id": "e3e448cb",
   "metadata": {},
   "outputs": [],
   "source": [
    "num=45"
   ]
  },
  {
   "cell_type": "code",
   "execution_count": 17,
   "id": "8939da5a",
   "metadata": {},
   "outputs": [
    {
     "name": "stdout",
     "output_type": "stream",
     "text": [
      "After subtraction assignment:  44\n"
     ]
    }
   ],
   "source": [
    "num-=1\n",
    "print(\"After subtraction assignment: \",num)"
   ]
  },
  {
   "cell_type": "code",
   "execution_count": 18,
   "id": "94936aa4",
   "metadata": {},
   "outputs": [
    {
     "name": "stdout",
     "output_type": "stream",
     "text": [
      "After multiplication assignment: 88\n"
     ]
    }
   ],
   "source": [
    "num*=2\n",
    "print(\"After multiplication assignment:\", num)\n"
   ]
  },
  {
   "cell_type": "code",
   "execution_count": 19,
   "id": "97b77c97",
   "metadata": {},
   "outputs": [
    {
     "name": "stdout",
     "output_type": "stream",
     "text": [
      "After division assignment: 9.777777777777779\n"
     ]
    }
   ],
   "source": [
    "num/=9\n",
    "print(\"After division assignment:\", num)\n"
   ]
  }
 ],
 "metadata": {
  "kernelspec": {
   "display_name": "Python 3 (ipykernel)",
   "language": "python",
   "name": "python3"
  },
  "language_info": {
   "codemirror_mode": {
    "name": "ipython",
    "version": 3
   },
   "file_extension": ".py",
   "mimetype": "text/x-python",
   "name": "python",
   "nbconvert_exporter": "python",
   "pygments_lexer": "ipython3",
   "version": "3.11.5"
  }
 },
 "nbformat": 4,
 "nbformat_minor": 5
}
